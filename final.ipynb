{
 "cells": [
  {
   "cell_type": "markdown",
   "id": "501000d9",
   "metadata": {},
   "source": [
    "# __Project Name: _Mortality Rate Trends with Race/Ethnicity___\n",
    "\n",
    "The data being analyzed pertains to mortalities stratified by various attributes namely Date, Location, Geographic-Level, Gender, Ethnicity, etc. _(Heart and Stroke data-sets)_\n",
    "\n",
    "Question : _Is there a significant difference in mortalitiy rates by groups for race/ethnicity?_ "
   ]
  },
  {
   "cell_type": "code",
   "execution_count": 4,
   "id": "a395dc6e",
   "metadata": {},
   "outputs": [],
   "source": [
    "#Quiz Gods Link \n",
    "#https://github.com/uic-cs418/cs418-spring22-quiz-gods\n",
    "\n",
    "### Cleaning Mortality Trend data ###\n",
    "import pandas as pd\n",
    "import numpy as np\n",
    "import string\n",
    "import seaborn as sns \n",
    "import matplotlib.pyplot as plt\n",
    "from DFfunctions import *\n",
    "\n",
    "heart = pd.read_csv('heartmortality.csv')   #Year for every data observation is 2013\n",
    "stroke = pd.read_csv('strokemortality.csv') #Year for every data observation is 2017"
   ]
  },
  {
   "cell_type": "markdown",
   "id": "b1b6595e",
   "metadata": {},
   "source": [
    "#Remove unused columns\n",
    "heartNotUsed = ['Year','LocationDesc','GeographicLevel','DataSource','Class','Topic','Data_Value_Unit','Data_Value_Type',\n",
    "                 'StratificationCategory1','Data_Value_Footnote_Symbol','StratificationCategory2',\n",
    "                 'TopicID','LocationID','Location 1']\n",
    "heartDf = removeC(heart, heartNotUsed)\n",
    "\n",
    "strokeNotUsed = ['Year','LocationDesc','DataSource','Class','Topic','Data_Value_Unit','Data_Value_Type',\n",
    "                 'StratificationCategory1','Data_Value_Footnote_Symbol','StratificationCategory2',\n",
    "                 'TopicID','LocationID','Y_lat','X_lon','GeographicLevel']\n",
    "strokeDf = removeC(stroke, strokeNotUsed)\n",
    "\n",
    "#Renaming the columns\n",
    "heartDf = heartDf.rename(columns = {'Data_Value': 'Deaths per 100,000', 'Data_Value_Footnote': 'Sufficiency?'\n",
    "                               ,'Stratification1': 'Gender', 'Stratification2': 'Race/Ethnicity'})\n",
    "\n",
    "strokeDf = strokeDf.rename(columns = {'Data_Value': 'Deaths per 100,000', 'Data_Value_Footnote': 'Sufficiency?'\n",
    "                                 ,'Stratification1': 'Gender','Stratification2': 'Race/Ethnicity'})\n",
    "\n",
    "strokeDf.head(3)"
   ]
  },
  {
   "cell_type": "markdown",
   "id": "e1067d7c",
   "metadata": {},
   "source": [
    "# Final Notebook Format\n",
    "\n",
    "* Intro\n",
    "* Hypothesis\n",
    "* Explain data being used\n",
    "* Explain EDA process\n",
    "    * Justify why columns were dropped\n",
    "    * What columns are being used and justify why they were kept\n",
    "    * Explain data scope and how the columns are going to help with the hpyothesis\n",
    "    * Explain temporal data (probably just state that our data is for only one year worth)\n",
    "    * Basically everytime we make an assumption it needs to be backed/explained\n",
    "* Explain visualizations and how they support our hypothesis\n",
    "    * what is the conclusion to each visual\n",
    "    * tie it back to our hypothesis\n",
    "    * If we are comparing data make sure its placed strategically and close together\n",
    "* Explain ML/Stats model and show visualizations\n",
    "* Wrap up our big idea and conclude whether we found meaninful data\n",
    "    "
   ]
  }
 ],
 "metadata": {
  "kernelspec": {
   "display_name": "Python 3 (ipykernel)",
   "language": "python",
   "name": "python3"
  },
  "language_info": {
   "codemirror_mode": {
    "name": "ipython",
    "version": 3
   },
   "file_extension": ".py",
   "mimetype": "text/x-python",
   "name": "python",
   "nbconvert_exporter": "python",
   "pygments_lexer": "ipython3",
   "version": "3.9.7"
  }
 },
 "nbformat": 4,
 "nbformat_minor": 5
}
