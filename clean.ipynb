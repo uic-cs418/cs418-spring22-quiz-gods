{
 "cells": [
  {
   "cell_type": "code",
   "execution_count": 35,
   "id": "3bf66fb9",
   "metadata": {},
   "outputs": [],
   "source": [
    "### Cleaning Mortality Trend data ###\n",
    "import pandas as pd\n",
    "import numpy as np\n",
    "import string\n",
    "\n",
    "covid = pd.read_csv('covid19mortality.csv')\n",
    "heart = pd.read_csv('heartmortality.csv') #Year for every data observation is 2013\n",
    "stroke = pd.read_csv('strokemortality.csv')"
   ]
  },
  {
   "cell_type": "code",
   "execution_count": 36,
   "id": "e0b47e1b",
   "metadata": {},
   "outputs": [
    {
     "name": "stderr",
     "output_type": "stream",
     "text": [
      "C:\\Users\\patas\\AppData\\Local\\Temp/ipykernel_15400/3214837071.py:1: FutureWarning: In a future version of pandas all arguments of DataFrame.drop except for the argument 'labels' will be keyword-only\n",
      "  covid = covid.drop(['Year','Footnote'],1)\n",
      "C:\\Users\\patas\\AppData\\Local\\Temp/ipykernel_15400/3214837071.py:2: FutureWarning: In a future version of pandas all arguments of DataFrame.drop except for the argument 'labels' will be keyword-only\n",
      "  heart = heart.drop(['Year','LocationDesc', 'DataSource','Class','Topic','Data_Value_Unit',\n",
      "C:\\Users\\patas\\AppData\\Local\\Temp/ipykernel_15400/3214837071.py:5: FutureWarning: In a future version of pandas all arguments of DataFrame.drop except for the argument 'labels' will be keyword-only\n",
      "  stroke = stroke.drop(['Year','LocationDesc','DataSource','Class','Topic','Data_Value_Unit','Data_Value_Type',\n"
     ]
    }
   ],
   "source": [
    "covid = covid.drop(['Year','Footnote'],1)\n",
    "heart = heart.drop(['Year','LocationDesc', 'DataSource','Class','Topic','Data_Value_Unit',\n",
    "                   'Data_Value_Type','Data_Value_Footnote_Symbol', 'StratificationCategory1',\n",
    "                   'StratificationCategory2', 'TopicID', 'LocationID','Location 1'], 1)\n",
    "stroke = stroke.drop(['Year','LocationDesc','DataSource','Class','Topic','Data_Value_Unit','Data_Value_Type',\n",
    "                     'StratificationCategory1','Data_Value_Footnote_Symbol'\n",
    "                     ,'StratificationCategory2','TopicID','LocationID','Y_lat','X_lon'],1)"
   ]
  },
  {
   "cell_type": "code",
   "execution_count": 37,
   "id": "f15636ec",
   "metadata": {},
   "outputs": [],
   "source": [
    "covid = covid.rename(columns = {'Non-Hispanic White':'W', 'Non-Hispanic Black or African American': 'B/AA',\n",
    "                       'Non-Hispanic American Indian or Alaska Native':'AIAN', 'Non-Hispanic Asian':'A',\n",
    "                        'Non-Hispanic Native Hawaiian or Other Pacific Islander': 'NH/OPI',\n",
    "                        'Non Hispanic more than one race': 'MultipleRaces', 'Hispanic or Latino' : 'H/L'})\n",
    "\n",
    "heart = heart.rename(columns = {'Data_Value': 'Deaths per 100,000', 'Data_Value_Footnote': 'Sufficiency?'\n",
    "                               ,'Stratification1': 'Gender', 'Stratification2': 'Race/Ethnicity'})\n",
    "\n",
    "stroke = stroke.rename(columns = {'Data_Value': 'Deaths per 100,000', 'Data_Value_Footnote': 'Sufficiency?'\n",
    "                                 ,'Stratification1': 'Gender','Stratification2': 'Race/Ethnicity'})"
   ]
  },
  {
   "cell_type": "code",
   "execution_count": 38,
   "id": "dcac518f",
   "metadata": {},
   "outputs": [
    {
     "name": "stdout",
     "output_type": "stream",
     "text": [
      "      LocationAbbr GeographicLevel  Deaths per 100,000       Sufficiency?  \\\n",
      "0               AK          County                 2.0                NaN   \n",
      "1               AK          County                 0.0                NaN   \n",
      "2               AK          County                67.2                NaN   \n",
      "3               AK          County               104.6                NaN   \n",
      "4               AK          County                 NaN  Insufficient Data   \n",
      "...            ...             ...                 ...                ...   \n",
      "59089           WY           State                 NaN  Insufficient Data   \n",
      "59090           WY           State                 NaN  Insufficient Data   \n",
      "59091           WY           State                 NaN  Insufficient Data   \n",
      "59092           WY           State                 NaN  Insufficient Data   \n",
      "59093           WY           State                 NaN  Insufficient Data   \n",
      "\n",
      "        Gender                      Race/Ethnicity  \n",
      "0      Overall                             Overall  \n",
      "1      Overall                             Overall  \n",
      "2      Overall                             Overall  \n",
      "3      Overall                             Overall  \n",
      "4      Overall                             Overall  \n",
      "...        ...                                 ...  \n",
      "59089     Male          Asian and Pacific Islander  \n",
      "59090   Female          Asian and Pacific Islander  \n",
      "59091  Overall  American Indian and Alaskan Native  \n",
      "59092     Male  American Indian and Alaskan Native  \n",
      "59093   Female  American Indian and Alaskan Native  \n",
      "\n",
      "[59094 rows x 6 columns]\n"
     ]
    }
   ],
   "source": [
    "print(stroke)"
   ]
  }
 ],
 "metadata": {
  "kernelspec": {
   "display_name": "Python 3 (ipykernel)",
   "language": "python",
   "name": "python3"
  },
  "language_info": {
   "codemirror_mode": {
    "name": "ipython",
    "version": 3
   },
   "file_extension": ".py",
   "mimetype": "text/x-python",
   "name": "python",
   "nbconvert_exporter": "python",
   "pygments_lexer": "ipython3",
   "version": "3.9.7"
  }
 },
 "nbformat": 4,
 "nbformat_minor": 5
}
