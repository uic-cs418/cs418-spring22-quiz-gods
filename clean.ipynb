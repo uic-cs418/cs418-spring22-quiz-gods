{
 "cells": [
  {
   "cell_type": "markdown",
   "id": "0ad83b72",
   "metadata": {},
   "source": [
    "# Project Introduction: \n",
    "__Project Name: _Mortality Rate Trends with Race/Ethnicity___\n",
    "\n",
    "The data being analyzed pertains to mortalities stratified by various attributes namely Date, Location, Geographic-Level, Gender, Ethnicity, etc. _(COVID-19, Heart, and Stroke data-sets)_\n",
    "\n",
    "Question : _Is there a significant difference in mortalitiy rates by groups for race/ethnicity?_ \n",
    "## Any Changes:  \n",
    "\n",
    "We have not made any significant changes that will potentially derail our approach to attain our goal ie. to bring awarness to healcare leaders/politicians by helping them establish new guidelines, attitudes, and policies using external resources to support our findings."
   ]
  },
  {
   "cell_type": "code",
   "execution_count": 7,
   "id": "3bf66fb9",
   "metadata": {},
   "outputs": [],
   "source": [
    "#Quiz Gods Link \n",
    "#https://github.com/uic-cs418/cs418-spring22-quiz-gods\n",
    "\n",
    "### Cleaning Mortality Trend data ###\n",
    "import pandas as pd\n",
    "import numpy as np\n",
    "import string\n",
    "import seaborn as sns \n",
    "import matplotlib.pyplot as plt\n",
    "from DFfunctions import *\n",
    "\n",
    "covid = pd.read_csv('covid19mortality.csv')\n",
    "heart = pd.read_csv('heartmortality.csv')   #Year for every data observation is 2013\n",
    "stroke = pd.read_csv('strokemortality.csv') #Year for every data observation is 2017\n",
    "\n",
    "#covid.head(2)"
   ]
  },
  {
   "cell_type": "code",
   "execution_count": 8,
   "id": "e0b47e1b",
   "metadata": {},
   "outputs": [],
   "source": [
    "#Drop columns that are not necessary for analysis\n",
    "covidNotUsed = ['Year', 'Footnote']\n",
    "coviddf = removeC(covid, covidNotUsed)\n",
    "\n",
    "heartNotUsed = ['Year','LocationDesc','GeographicLevel','DataSource','Class','Topic','Data_Value_Unit','Data_Value_Type',\n",
    "                 'StratificationCategory1','Data_Value_Footnote_Symbol','StratificationCategory2',\n",
    "                 'TopicID','LocationID','Location 1']\n",
    "\n",
    "heartDf = removeC(heart, heartNotUsed)\n",
    "\n",
    "strokeNotUsed = ['Year','LocationDesc','DataSource','Class','Topic','Data_Value_Unit','Data_Value_Type',\n",
    "                 'StratificationCategory1','Data_Value_Footnote_Symbol','StratificationCategory2',\n",
    "                 'TopicID','LocationID','Y_lat','X_lon','GeographicLevel']\n",
    "\n",
    "strokeDf = removeC(stroke, strokeNotUsed)"
   ]
  },
  {
   "cell_type": "code",
   "execution_count": 9,
   "id": "f15636ec",
   "metadata": {},
   "outputs": [
    {
     "data": {
      "text/html": [
       "<div>\n",
       "<style scoped>\n",
       "    .dataframe tbody tr th:only-of-type {\n",
       "        vertical-align: middle;\n",
       "    }\n",
       "\n",
       "    .dataframe tbody tr th {\n",
       "        vertical-align: top;\n",
       "    }\n",
       "\n",
       "    .dataframe thead th {\n",
       "        text-align: right;\n",
       "    }\n",
       "</style>\n",
       "<table border=\"1\" class=\"dataframe\">\n",
       "  <thead>\n",
       "    <tr style=\"text-align: right;\">\n",
       "      <th></th>\n",
       "      <th>LocationAbbr</th>\n",
       "      <th>Deaths per 100,000</th>\n",
       "      <th>Sufficiency?</th>\n",
       "      <th>Gender</th>\n",
       "      <th>Race/Ethnicity</th>\n",
       "    </tr>\n",
       "  </thead>\n",
       "  <tbody>\n",
       "    <tr>\n",
       "      <th>0</th>\n",
       "      <td>AK</td>\n",
       "      <td>147.4</td>\n",
       "      <td>NaN</td>\n",
       "      <td>Overall</td>\n",
       "      <td>Overall</td>\n",
       "    </tr>\n",
       "    <tr>\n",
       "      <th>1</th>\n",
       "      <td>AK</td>\n",
       "      <td>229.4</td>\n",
       "      <td>NaN</td>\n",
       "      <td>Overall</td>\n",
       "      <td>Overall</td>\n",
       "    </tr>\n",
       "    <tr>\n",
       "      <th>2</th>\n",
       "      <td>AK</td>\n",
       "      <td>255.5</td>\n",
       "      <td>NaN</td>\n",
       "      <td>Overall</td>\n",
       "      <td>Overall</td>\n",
       "    </tr>\n",
       "  </tbody>\n",
       "</table>\n",
       "</div>"
      ],
      "text/plain": [
       "  LocationAbbr  Deaths per 100,000 Sufficiency?   Gender Race/Ethnicity\n",
       "0           AK               147.4          NaN  Overall        Overall\n",
       "1           AK               229.4          NaN  Overall        Overall\n",
       "2           AK               255.5          NaN  Overall        Overall"
      ]
     },
     "execution_count": 9,
     "metadata": {},
     "output_type": "execute_result"
    }
   ],
   "source": [
    "#We want data analysis to be easy to process and less time to take, so let's clarify some column values and\n",
    "#create a legend key to shorten the column values to look through the dataset\n",
    "coviddf = coviddf.rename(columns = {'Non-Hispanic White':'W', 'Non-Hispanic Black or African American': 'B/AA',\n",
    "                       'Non-Hispanic American Indian or Alaska Native':'AIAN', 'Non-Hispanic Asian':'A',\n",
    "                        'Non-Hispanic Native Hawaiian or Other Pacific Islander': 'NH/OPI',\n",
    "                        'Non Hispanic more than one race': 'MultipleRaces', 'Hispanic or Latino' : 'H/L'})\n",
    "\n",
    "heartDf = heartDf.rename(columns = {'Data_Value': 'Deaths per 100,000', 'Data_Value_Footnote': 'Sufficiency?'\n",
    "                               ,'Stratification1': 'Gender', 'Stratification2': 'Race/Ethnicity'})\n",
    "\n",
    "strokeDf = strokeDf.rename(columns = {'Data_Value': 'Deaths per 100,000', 'Data_Value_Footnote': 'Sufficiency?'\n",
    "                                 ,'Stratification1': 'Gender','Stratification2': 'Race/Ethnicity'})\n",
    "\n",
    "heartDf.head(3)"
   ]
  },
  {
   "cell_type": "markdown",
   "id": "1f5d4851",
   "metadata": {},
   "source": [
    "## **Exploratory Data Analysis**\n",
    "#####  Explain what your data looks like (words are fine, butvisualizations are often better). Include any interesting issues or preliminaryconclusions you have about your data\n",
    "\n",
    "In our project EDA is primarily used to:<br>\n",
    "• Cleaning, we had many unused columns that did not contribute to our analysis. Hence, we only picked the ones that were core to our model (Race/Ethnicity, deaths, etc.).<br>\n",
    "• Preliminary selection of appropriate models (in this case we are using a bar-plot)<br>\n",
    "• Determining relationships among the explanatory variables, that here are Average Number of Deaths vs. Races <br>\n",
    "• Assessing the direction and rough size of relationships between explanatory and outcome variables. <br>\n",
    "• Assumptions from the dataset: White and African American descents have significantly higher deaths related to heart-conditions and strokes compared to other races. <br>"
   ]
  },
  {
   "cell_type": "code",
   "execution_count": 10,
   "id": "dcac518f",
   "metadata": {},
   "outputs": [
    {
     "data": {
      "text/html": [
       "<div>\n",
       "<style scoped>\n",
       "    .dataframe tbody tr th:only-of-type {\n",
       "        vertical-align: middle;\n",
       "    }\n",
       "\n",
       "    .dataframe tbody tr th {\n",
       "        vertical-align: top;\n",
       "    }\n",
       "\n",
       "    .dataframe thead th {\n",
       "        text-align: right;\n",
       "    }\n",
       "</style>\n",
       "<table border=\"1\" class=\"dataframe\">\n",
       "  <thead>\n",
       "    <tr style=\"text-align: right;\">\n",
       "      <th></th>\n",
       "      <th>LocationAbbr</th>\n",
       "      <th>Deaths per 100,000</th>\n",
       "      <th>Gender</th>\n",
       "      <th>Race/Ethnicity</th>\n",
       "    </tr>\n",
       "  </thead>\n",
       "  <tbody>\n",
       "    <tr>\n",
       "      <th>89</th>\n",
       "      <td>AK</td>\n",
       "      <td>55.7</td>\n",
       "      <td>Overall</td>\n",
       "      <td>White</td>\n",
       "    </tr>\n",
       "    <tr>\n",
       "      <th>90</th>\n",
       "      <td>AK</td>\n",
       "      <td>70.0</td>\n",
       "      <td>Overall</td>\n",
       "      <td>White</td>\n",
       "    </tr>\n",
       "    <tr>\n",
       "      <th>92</th>\n",
       "      <td>AK</td>\n",
       "      <td>73.3</td>\n",
       "      <td>Overall</td>\n",
       "      <td>White</td>\n",
       "    </tr>\n",
       "  </tbody>\n",
       "</table>\n",
       "</div>"
      ],
      "text/plain": [
       "   LocationAbbr  Deaths per 100,000   Gender Race/Ethnicity\n",
       "89           AK                55.7  Overall          White\n",
       "90           AK                70.0  Overall          White\n",
       "92           AK                73.3  Overall          White"
      ]
     },
     "execution_count": 10,
     "metadata": {},
     "output_type": "execute_result"
    }
   ],
   "source": [
    "#Cleaning data to remove columns that does not have enough data \n",
    "\n",
    "#Filtering data to obtain overall results for gender and clear any insufficient data from our dataset\n",
    "heartDf = getSufficientData(heartDf)\n",
    "strokeDf = getSufficientData(strokeDf)\n",
    "\n",
    "#removing columns for Sufficiency as we only care about the race, death, and gender\n",
    "\n",
    "notWanted = ['Sufficiency', 'Sufficiency?']\n",
    "heartUpdated = removeC(heartDf, notWanted)\n",
    "heartUpdated.head()\n",
    "\n",
    "strokeUpdated = removeC(strokeDf, notWanted)\n",
    "strokeUpdated.head(3)"
   ]
  },
  {
   "cell_type": "markdown",
   "id": "4d4e6b30",
   "metadata": {},
   "source": [
    "## Visualization\n",
    "_Since the data is targeted to Health Care Leaders and Politicians, the aim of our visualization stands to test the hypothesis that different races have different death rates across COVID-19, Heart-conditions and Stroke related deaths. This stands interesting as it is quite helpful to our target audience for their usefulness in campaigns and providing resources to required population. As per this visualization a trend is seen that African American descents have the highest deaths related to heart-conditions and strokes._"
   ]
  },
  {
   "cell_type": "code",
   "execution_count": 11,
   "id": "6d635c42",
   "metadata": {},
   "outputs": [
    {
     "data": {
      "image/png": "[encoded data removed]",
      "text/plain": [
       "<Figure size 1080x360 with 1 Axes>"
      ]
     },
     "metadata": {},
     "output_type": "display_data"
    }
   ],
   "source": [
    "#Determining average deaths per each race group for heart related\n",
    "\n",
    "heartUpdated2 = avgDf(heartUpdated)"
   ]
  },
  {
   "cell_type": "code",
   "execution_count": 12,
   "id": "22606972",
   "metadata": {},
   "outputs": [
    {
     "data": {
      "image/png": "[encoded data removed]",
      "text/plain": [
       "<Figure size 1080x360 with 1 Axes>"
      ]
     },
     "metadata": {},
     "output_type": "display_data"
    }
   ],
   "source": [
    "#Determining average deaths per each race group for stroke related\n",
    "\n",
    "strokeUpdated2 = avgDf(strokeUpdated)"
   ]
  },
  {
   "cell_type": "markdown",
   "id": "3d83e9bb",
   "metadata": {},
   "source": [
    "# **Reflection**\n",
    "#### o What is hardest part of the project that you’ve encountered so far?\n",
    "Applying and fitting a ML analysis that can assist in coming towards a conclusion on the hypothesis. Another interesting challenge has been pushing new code to the main branch as we have encountered numerous conflicts because of multiple group members working on the same notebook.\n",
    "#### o What are your initial insights?\n",
    "Initial observations lead to two inferences. The first inference is that the mortality trends are quite similar in both cases namely avg. number of deaths because of heart-conditions and strokes when the data is stratified according to \"Races\". The second inference is that the number of deaths by heart-conditions is significantly higher than that of deaths caused by stroke. This is likely because heart disease is the number one leading cause of death in the U.S., according to the CDC, and stroke is the 5th leading cause of death in the U.S.\n",
    "#### o Are there any concrete results you can show at this point? If not, why not? \n",
    "There are two potential results that can be derived at this point. First one is Hispanic and Asian/Pacific Islander races have almost half average deaths from heart-conditions compared to other race groups. Secondly in the stroke data those of African American descent have a higher average number of deaths compared to the other race groups. But this second result needs more exploration in order to support the claim. An interesting point that we found is that Native Americans are disproportionately higher in heart disease deaths compared to stroke when comparing each race to each other? Why? With some research, we found a study called the Strong Heart Study that mentioned \"diabetes, high blood pressure, high cholesterol, and cigarette smoking...have increased among American Indians because of cultural changes...\" over the last 50 years\n",
    "#### o Going forward, what are the current biggest problems you’re facing? \n",
    "The biggest challenge so far is finding a proper way to examine our covid dataset because the dates change with the data elements. Thankfully the data is organized so we don't have to aggregate the data for every race/ethnicity because it has already done that for us by mentioning the state as the United States, which means it's an overall statistic.\n",
    "#### o Do you think you are on track with your project? If not, what parts do you need to dedicate more time to? \n",
    "We are on track with our project as we have seen some examples of variances in death rates between ethnicities. However, our approach needs to be trained more to have our data support each other.\n",
    "#### o Given your initial exploration of the data, is it worth proceeding with your project, why? If not, how are you going to change your project and why do you think it’s better than your current results?\n",
    "Yes our data is worth proceeding with as we have already found several interesting discoveries that support our initial hypothesis. We would like to dig deeper into our research and refine our analysis techniques to not only further support our initial discoveries, but possibly find new ones. Possible ways of doing this is to use different visualizations and bring in other data categories we had initially removed, such as gender and location. For example, splitting up the data by state and checking to see if certain ethnicities would be more vulnerable in specific states would be a further exploration goal of ours."
   ]
  },
  {
   "cell_type": "markdown",
   "id": "f277dd1b",
   "metadata": {},
   "source": [
    "## Next Steps \n",
    "##### What you plan to accomplish in the next month and how you plan to evaluate whether your project achieved the goals you set for it.\n",
    "Figure out how to use ML analysis effectively to complement and support our analysis and visualizations. If we can apply ML analysis to support out visualization then we will be confident that our project achieved its goals."
   ]
  },
  {
   "cell_type": "code",
   "execution_count": null,
   "id": "82f12f64",
   "metadata": {},
   "outputs": [],
   "source": []
  }
 ],
 "metadata": {
  "kernelspec": {
   "display_name": "Python 3 (ipykernel)",
   "language": "python",
   "name": "python3"
  },
  "language_info": {
   "codemirror_mode": {
    "name": "ipython",
    "version": 3
   },
   "file_extension": ".py",
   "mimetype": "text/x-python",
   "name": "python",
   "nbconvert_exporter": "python",
   "pygments_lexer": "ipython3",
   "version": "3.9.7"
  }
 },
 "nbformat": 4,
 "nbformat_minor": 5
}
