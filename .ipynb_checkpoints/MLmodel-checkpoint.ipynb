{
 "cells": [
  {
   "cell_type": "code",
   "execution_count": 6,
   "id": "1ba05f98",
   "metadata": {},
   "outputs": [],
   "source": [
    "# ML analysis \n",
    "\n",
    "# Additional dataset (healthcarecost.csv) which covers healthcare costs for each county in United States. \n",
    "# Trying to implement ML model that can establish co-relation b/w mortality rates and expenditures that govt. \n",
    "# is making for each county in United States.\n",
    "\n",
    "# In addition to that, one more conclusion question can be added that \"Is the  health care costs sufficient\n",
    "# for specific county with respective mortality rates caused by heart attacks?\"\n",
    "\n",
    "# Specifically for the ML model\n",
    "\n",
    "# Broad Idea\n",
    "\n",
    "# We will be using Supervised Machine Learning algorithm \"Logistic Regression\" [Binary classification problem] \n",
    "# that can be used to model the probability of a certain class or event where the outcome's nature is bounded \n",
    "# by binary or dichotomous.\n",
    "\n",
    "# OUR DATA exhibit Linearly seperable characteristic. \n",
    "\n",
    "# ORDERED LOGISTIC REGRESSION will model correlation b/w \"Deaths per 100,000\" and \"HealthCareCosts_PerCapita_\n",
    "# AverageBound($)\" and will output discrete three classes with ordering of levels nameley \"low_hcc\", \"medium_hcc\",\n",
    "# and \"high_hcc\".\n",
    "\n",
    "# NEED SOMETHING SIMPLER\n",
    "\n",
    "import numpy as np\n",
    "import pandas as pd\n",
    "import seaborn as sns\n",
    "import matplotlib.pyplot as plt\n",
    "\n",
    "dataset = pd.read_csv('hcc_updated.csv')"
   ]
  },
  {
   "cell_type": "code",
   "execution_count": 7,
   "id": "e6393e5d",
   "metadata": {},
   "outputs": [],
   "source": [
    "sns.set_style('dark')\n",
    "import matplotlib as mpl\n",
    "mpl.style.use(['https://gist.githubusercontent.com/BrendanMartin/01e71bb9550774e2ccff3af7574c0020/raw/6fa9681c7d0232d34c9271de9be150e584e606fe/lds_default.mplstyle'])\n",
    "mpl.rcParams.update({\"figure.figsize\": (8,6), \"axes.titlepad\": 22.0})"
   ]
  },
  {
   "cell_type": "code",
   "execution_count": 10,
   "id": "f25c4b4b",
   "metadata": {},
   "outputs": [
    {
     "name": "stdout",
     "output_type": "stream",
     "text": [
      "<function load_breast_cancer at 0x7fc1a92d69d0>\n"
     ]
    }
   ],
   "source": [
    "from sklearn.datasets import load_breast_cancer\n",
    "dataset1 = load_breast_cancer()\n",
    "print(dataset1)"
   ]
  },
  {
   "cell_type": "code",
   "execution_count": null,
   "id": "f4b55aed",
   "metadata": {},
   "outputs": [],
   "source": []
  }
 ],
 "metadata": {
  "kernelspec": {
   "display_name": "Python 3 (ipykernel)",
   "language": "python",
   "name": "python3"
  },
  "language_info": {
   "codemirror_mode": {
    "name": "ipython",
    "version": 3
   },
   "file_extension": ".py",
   "mimetype": "text/x-python",
   "name": "python",
   "nbconvert_exporter": "python",
   "pygments_lexer": "ipython3",
   "version": "3.9.7"
  }
 },
 "nbformat": 4,
 "nbformat_minor": 5
}
