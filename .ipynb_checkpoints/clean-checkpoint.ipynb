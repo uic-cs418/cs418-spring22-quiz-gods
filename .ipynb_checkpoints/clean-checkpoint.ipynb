{
 "cells": [
  {
   "cell_type": "markdown",
   "id": "0ad83b72",
   "metadata": {},
   "source": [
    "# Project Introduction: <br>\n",
    "\n",
    "*Fill out an introduction that discusses the data you are analyzing, and the question or questions you are investigating* <br>\n",
    "\n",
    "The data being analyzed pertains to COVID, Heart, and Stroke mortalities that will be filtered to focus on gender and ethnicities. And\n",
    "\n",
    "## Any Changes: <br> \n",
    "\n",
    "*A discussion whether your scope has changed since the check-in\n",
    "proposal slides. What did you aim to do that you will not do and what have you\n",
    "added to the project?* <br>\n",
    "\n",
    "We have not made any changes on our approach since our updated proposal. We have the same goals and scope of exploring and showing significant differences in mortality rates."
   ]
  },
  {
   "cell_type": "code",
<<<<<<< Updated upstream
   "execution_count": 147,
=======
   "execution_count": 12,
>>>>>>> Stashed changes
   "id": "3bf66fb9",
   "metadata": {},
   "outputs": [
    {
     "data": {
      "text/html": [
       "<div>\n",
       "<style scoped>\n",
       "    .dataframe tbody tr th:only-of-type {\n",
       "        vertical-align: middle;\n",
       "    }\n",
       "\n",
       "    .dataframe tbody tr th {\n",
       "        vertical-align: top;\n",
       "    }\n",
       "\n",
       "    .dataframe thead th {\n",
       "        text-align: right;\n",
       "    }\n",
       "</style>\n",
       "<table border=\"1\" class=\"dataframe\">\n",
       "  <thead>\n",
       "    <tr style=\"text-align: right;\">\n",
       "      <th></th>\n",
       "      <th>Data as of</th>\n",
       "      <th>Start Date</th>\n",
       "      <th>End Date</th>\n",
       "      <th>Year</th>\n",
       "      <th>Month</th>\n",
       "      <th>Group</th>\n",
       "      <th>State</th>\n",
       "      <th>Indicator</th>\n",
       "      <th>Non-Hispanic White</th>\n",
       "      <th>Non-Hispanic Black or African American</th>\n",
       "      <th>Non-Hispanic American Indian or Alaska Native</th>\n",
       "      <th>Non-Hispanic Asian</th>\n",
       "      <th>Non-Hispanic Native Hawaiian or Other Pacific Islander</th>\n",
       "      <th>Non Hispanic more than one race</th>\n",
       "      <th>Hispanic or Latino</th>\n",
       "      <th>Footnote</th>\n",
       "    </tr>\n",
       "  </thead>\n",
       "  <tbody>\n",
       "    <tr>\n",
       "      <th>0</th>\n",
       "      <td>03/30/2022</td>\n",
       "      <td>01/01/2020</td>\n",
       "      <td>03/26/2022</td>\n",
       "      <td>2020-2022</td>\n",
       "      <td>NaN</td>\n",
       "      <td>By Total</td>\n",
       "      <td>United States</td>\n",
       "      <td>Count of COVID-19 deaths</td>\n",
       "      <td>630742.0</td>\n",
       "      <td>139867.0</td>\n",
       "      <td>10799.0</td>\n",
       "      <td>30750.0</td>\n",
       "      <td>2105.0</td>\n",
       "      <td>3721.0</td>\n",
       "      <td>158481.0</td>\n",
       "      <td>NaN</td>\n",
       "    </tr>\n",
       "    <tr>\n",
       "      <th>1</th>\n",
       "      <td>03/30/2022</td>\n",
       "      <td>01/01/2020</td>\n",
       "      <td>03/26/2022</td>\n",
       "      <td>2020-2022</td>\n",
       "      <td>NaN</td>\n",
       "      <td>By Total</td>\n",
       "      <td>United States</td>\n",
       "      <td>Distribution of COVID-19 deaths (%)</td>\n",
       "      <td>64.4</td>\n",
       "      <td>14.3</td>\n",
       "      <td>1.1</td>\n",
       "      <td>3.1</td>\n",
       "      <td>0.2</td>\n",
       "      <td>0.4</td>\n",
       "      <td>16.2</td>\n",
       "      <td>NaN</td>\n",
       "    </tr>\n",
       "    <tr>\n",
       "      <th>2</th>\n",
       "      <td>03/30/2022</td>\n",
       "      <td>01/01/2020</td>\n",
       "      <td>03/26/2022</td>\n",
       "      <td>2020-2022</td>\n",
       "      <td>NaN</td>\n",
       "      <td>By Total</td>\n",
       "      <td>United States</td>\n",
       "      <td>Unweighted distribution of population (%)</td>\n",
       "      <td>59.7</td>\n",
       "      <td>12.6</td>\n",
       "      <td>0.7</td>\n",
       "      <td>5.9</td>\n",
       "      <td>0.2</td>\n",
       "      <td>2.3</td>\n",
       "      <td>18.6</td>\n",
       "      <td>NaN</td>\n",
       "    </tr>\n",
       "    <tr>\n",
       "      <th>3</th>\n",
       "      <td>03/30/2022</td>\n",
       "      <td>01/01/2020</td>\n",
       "      <td>03/26/2022</td>\n",
       "      <td>2020-2022</td>\n",
       "      <td>NaN</td>\n",
       "      <td>By Total</td>\n",
       "      <td>United States</td>\n",
       "      <td>Weighted distribution of population (%)</td>\n",
       "      <td>40.8</td>\n",
       "      <td>13.5</td>\n",
       "      <td>0.4</td>\n",
       "      <td>9.6</td>\n",
       "      <td>0.2</td>\n",
       "      <td>2.2</td>\n",
       "      <td>33.4</td>\n",
       "      <td>NaN</td>\n",
       "    </tr>\n",
       "    <tr>\n",
       "      <th>4</th>\n",
       "      <td>03/30/2022</td>\n",
       "      <td>01/01/2020</td>\n",
       "      <td>12/31/2020</td>\n",
       "      <td>2020</td>\n",
       "      <td>NaN</td>\n",
       "      <td>By Year</td>\n",
       "      <td>United States</td>\n",
       "      <td>Count of COVID-19 deaths</td>\n",
       "      <td>232835.0</td>\n",
       "      <td>61541.0</td>\n",
       "      <td>4615.0</td>\n",
       "      <td>13592.0</td>\n",
       "      <td>695.0</td>\n",
       "      <td>1144.0</td>\n",
       "      <td>69474.0</td>\n",
       "      <td>NaN</td>\n",
       "    </tr>\n",
       "  </tbody>\n",
       "</table>\n",
       "</div>"
      ],
      "text/plain": [
       "   Data as of  Start Date    End Date       Year  Month     Group  \\\n",
       "0  03/30/2022  01/01/2020  03/26/2022  2020-2022    NaN  By Total   \n",
       "1  03/30/2022  01/01/2020  03/26/2022  2020-2022    NaN  By Total   \n",
       "2  03/30/2022  01/01/2020  03/26/2022  2020-2022    NaN  By Total   \n",
       "3  03/30/2022  01/01/2020  03/26/2022  2020-2022    NaN  By Total   \n",
       "4  03/30/2022  01/01/2020  12/31/2020       2020    NaN   By Year   \n",
       "\n",
       "           State                                  Indicator  \\\n",
       "0  United States                   Count of COVID-19 deaths   \n",
       "1  United States        Distribution of COVID-19 deaths (%)   \n",
       "2  United States  Unweighted distribution of population (%)   \n",
       "3  United States    Weighted distribution of population (%)   \n",
       "4  United States                   Count of COVID-19 deaths   \n",
       "\n",
       "   Non-Hispanic White  Non-Hispanic Black or African American  \\\n",
       "0            630742.0                                139867.0   \n",
       "1                64.4                                    14.3   \n",
       "2                59.7                                    12.6   \n",
       "3                40.8                                    13.5   \n",
       "4            232835.0                                 61541.0   \n",
       "\n",
       "   Non-Hispanic American Indian or Alaska Native  Non-Hispanic Asian  \\\n",
       "0                                        10799.0             30750.0   \n",
       "1                                            1.1                 3.1   \n",
       "2                                            0.7                 5.9   \n",
       "3                                            0.4                 9.6   \n",
       "4                                         4615.0             13592.0   \n",
       "\n",
       "   Non-Hispanic Native Hawaiian or Other Pacific Islander  \\\n",
       "0                                             2105.0        \n",
       "1                                                0.2        \n",
       "2                                                0.2        \n",
       "3                                                0.2        \n",
       "4                                              695.0        \n",
       "\n",
       "   Non Hispanic more than one race  Hispanic or Latino Footnote  \n",
       "0                           3721.0            158481.0      NaN  \n",
       "1                              0.4                16.2      NaN  \n",
       "2                              2.3                18.6      NaN  \n",
       "3                              2.2                33.4      NaN  \n",
       "4                           1144.0             69474.0      NaN  "
      ]
     },
     "execution_count": 147,
     "metadata": {},
     "output_type": "execute_result"
    }
   ],
   "source": [
    "#Quiz Gods Link \n",
    "#https://github.com/uic-cs418/cs418-spring22-quiz-gods\n",
    "\n",
    "### Cleaning Mortality Trend data ###\n",
    "import pandas as pd\n",
    "import numpy as np\n",
    "import string\n",
    "import seaborn as sns \n",
    "import matplotlib.pyplot as plt\n",
    "from DFfunctions import *\n",
    "\n",
    "covid = pd.read_csv('covid19mortality.csv')\n",
    "heart = pd.read_csv('heartmortality.csv') #Year for every data observation is 2013\n",
    "stroke = pd.read_csv('strokemortality.csv') #Year for every data observation is 2017\n",
    "\n",
    "covid.head()"
   ]
  },
  {
   "cell_type": "code",
<<<<<<< Updated upstream
   "execution_count": 148,
=======
   "execution_count": 13,
>>>>>>> Stashed changes
   "id": "e0b47e1b",
   "metadata": {},
   "outputs": [
    {
     "data": {
      "text/html": [
       "<div>\n",
       "<style scoped>\n",
       "    .dataframe tbody tr th:only-of-type {\n",
       "        vertical-align: middle;\n",
       "    }\n",
       "\n",
       "    .dataframe tbody tr th {\n",
       "        vertical-align: top;\n",
       "    }\n",
       "\n",
       "    .dataframe thead th {\n",
       "        text-align: right;\n",
       "    }\n",
       "</style>\n",
       "<table border=\"1\" class=\"dataframe\">\n",
       "  <thead>\n",
       "    <tr style=\"text-align: right;\">\n",
       "      <th></th>\n",
       "      <th>LocationAbbr</th>\n",
       "      <th>Data_Value</th>\n",
       "      <th>Data_Value_Footnote</th>\n",
       "      <th>Stratification1</th>\n",
       "      <th>Stratification2</th>\n",
       "    </tr>\n",
       "  </thead>\n",
       "  <tbody>\n",
       "    <tr>\n",
       "      <th>0</th>\n",
       "      <td>AK</td>\n",
       "      <td>2.0</td>\n",
       "      <td>NaN</td>\n",
       "      <td>Overall</td>\n",
       "      <td>Overall</td>\n",
       "    </tr>\n",
       "    <tr>\n",
       "      <th>1</th>\n",
       "      <td>AK</td>\n",
       "      <td>0.0</td>\n",
       "      <td>NaN</td>\n",
       "      <td>Overall</td>\n",
       "      <td>Overall</td>\n",
       "    </tr>\n",
       "    <tr>\n",
       "      <th>2</th>\n",
       "      <td>AK</td>\n",
       "      <td>67.2</td>\n",
       "      <td>NaN</td>\n",
       "      <td>Overall</td>\n",
       "      <td>Overall</td>\n",
       "    </tr>\n",
       "    <tr>\n",
       "      <th>3</th>\n",
       "      <td>AK</td>\n",
       "      <td>104.6</td>\n",
       "      <td>NaN</td>\n",
       "      <td>Overall</td>\n",
       "      <td>Overall</td>\n",
       "    </tr>\n",
       "    <tr>\n",
       "      <th>4</th>\n",
       "      <td>AK</td>\n",
       "      <td>NaN</td>\n",
       "      <td>Insufficient Data</td>\n",
       "      <td>Overall</td>\n",
       "      <td>Overall</td>\n",
       "    </tr>\n",
       "  </tbody>\n",
       "</table>\n",
       "</div>"
      ],
      "text/plain": [
       "  LocationAbbr  Data_Value Data_Value_Footnote Stratification1 Stratification2\n",
       "0           AK         2.0                 NaN         Overall         Overall\n",
       "1           AK         0.0                 NaN         Overall         Overall\n",
       "2           AK        67.2                 NaN         Overall         Overall\n",
       "3           AK       104.6                 NaN         Overall         Overall\n",
       "4           AK         NaN   Insufficient Data         Overall         Overall"
      ]
     },
     "execution_count": 148,
     "metadata": {},
     "output_type": "execute_result"
    }
   ],
   "source": [
    "#Drop columns that are not necessary for analysis\n",
    "useCols = []\n",
    "data = {}\n",
    "for col in covid.columns:\n",
    "    if col != 'Year' and col != 'Footnote':\n",
    "        data[col] = covid[col]\n",
    "coviddf = pd.DataFrame(data) \n",
    "coviddf.head()\n",
    "\n",
    "heartNotUsed = ['Year','LocationDesc', 'DataSource','Class','Topic','Data_Value_Unit',\n",
    "                   'Data_Value_Type','Data_Value_Footnote_Symbol', 'StratificationCategory1',\n",
    "                   'StratificationCategory2', 'TopicID', 'LocationID','Location 1','GeographicLevel']\n",
    "heartCols = []\n",
    "heartData = {}\n",
    "for col in heart.columns:\n",
    "    if col not in heartNotUsed:\n",
    "        heartData[col] = heart[col]\n",
    "heartDf = pd.DataFrame(heartData)\n",
    "heartDf.head()\n",
    "\n",
    "strokeNotUsed = ['Year','LocationDesc','DataSource','Class','Topic','Data_Value_Unit','Data_Value_Type',\n",
    "                     'StratificationCategory1','Data_Value_Footnote_Symbol'\n",
    "                     ,'StratificationCategory2','TopicID','LocationID','Y_lat','X_lon','GeographicLevel']\n",
    "stokeCols = []\n",
    "strokeData = {}\n",
    "for col in stroke.columns:\n",
    "    if col not in strokeNotUsed:\n",
    "        strokeData[col] = stroke[col]\n",
    "strokeDf = pd.DataFrame(strokeData)\n",
    "strokeDf.head()"
   ]
  },
  {
   "cell_type": "code",
<<<<<<< Updated upstream
   "execution_count": 149,
=======
   "execution_count": 14,
>>>>>>> Stashed changes
   "id": "f15636ec",
   "metadata": {},
   "outputs": [
    {
     "data": {
      "text/html": [
       "<div>\n",
       "<style scoped>\n",
       "    .dataframe tbody tr th:only-of-type {\n",
       "        vertical-align: middle;\n",
       "    }\n",
       "\n",
       "    .dataframe tbody tr th {\n",
       "        vertical-align: top;\n",
       "    }\n",
       "\n",
       "    .dataframe thead th {\n",
       "        text-align: right;\n",
       "    }\n",
       "</style>\n",
       "<table border=\"1\" class=\"dataframe\">\n",
       "  <thead>\n",
       "    <tr style=\"text-align: right;\">\n",
       "      <th></th>\n",
       "      <th>LocationAbbr</th>\n",
       "      <th>Deaths per 100,000</th>\n",
       "      <th>Sufficiency?</th>\n",
       "      <th>Gender</th>\n",
       "      <th>Race/Ethnicity</th>\n",
       "    </tr>\n",
       "  </thead>\n",
       "  <tbody>\n",
       "    <tr>\n",
       "      <th>0</th>\n",
       "      <td>AK</td>\n",
       "      <td>2.0</td>\n",
       "      <td>NaN</td>\n",
       "      <td>Overall</td>\n",
       "      <td>Overall</td>\n",
       "    </tr>\n",
       "    <tr>\n",
       "      <th>1</th>\n",
       "      <td>AK</td>\n",
       "      <td>0.0</td>\n",
       "      <td>NaN</td>\n",
       "      <td>Overall</td>\n",
       "      <td>Overall</td>\n",
       "    </tr>\n",
       "    <tr>\n",
       "      <th>2</th>\n",
       "      <td>AK</td>\n",
       "      <td>67.2</td>\n",
       "      <td>NaN</td>\n",
       "      <td>Overall</td>\n",
       "      <td>Overall</td>\n",
       "    </tr>\n",
       "    <tr>\n",
       "      <th>3</th>\n",
       "      <td>AK</td>\n",
       "      <td>104.6</td>\n",
       "      <td>NaN</td>\n",
       "      <td>Overall</td>\n",
       "      <td>Overall</td>\n",
       "    </tr>\n",
       "    <tr>\n",
       "      <th>4</th>\n",
       "      <td>AK</td>\n",
       "      <td>NaN</td>\n",
       "      <td>Insufficient Data</td>\n",
       "      <td>Overall</td>\n",
       "      <td>Overall</td>\n",
       "    </tr>\n",
       "  </tbody>\n",
       "</table>\n",
       "</div>"
      ],
      "text/plain": [
       "  LocationAbbr  Deaths per 100,000       Sufficiency?   Gender Race/Ethnicity\n",
       "0           AK                 2.0                NaN  Overall        Overall\n",
       "1           AK                 0.0                NaN  Overall        Overall\n",
       "2           AK                67.2                NaN  Overall        Overall\n",
       "3           AK               104.6                NaN  Overall        Overall\n",
       "4           AK                 NaN  Insufficient Data  Overall        Overall"
      ]
     },
<<<<<<< Updated upstream
     "execution_count": 149,
=======
     "execution_count": 14,
>>>>>>> Stashed changes
     "metadata": {},
     "output_type": "execute_result"
    }
   ],
   "source": [
    "#We want data analysis to be easy to process and less time to take, so let's clarify some column values and\n",
    "#create a legend key to shorten the column values to look through the dataset\n",
    "coviddf = coviddf.rename(columns = {'Non-Hispanic White':'W', 'Non-Hispanic Black or African American': 'B/AA',\n",
    "                       'Non-Hispanic American Indian or Alaska Native':'AIAN', 'Non-Hispanic Asian':'A',\n",
    "                        'Non-Hispanic Native Hawaiian or Other Pacific Islander': 'NH/OPI',\n",
    "                        'Non Hispanic more than one race': 'MultipleRaces', 'Hispanic or Latino' : 'H/L'})\n",
    "\n",
    "heartDf = heartDf.rename(columns = {'Data_Value': 'Deaths per 100,000', 'Data_Value_Footnote': 'Sufficiency?'\n",
    "                               ,'Stratification1': 'Gender', 'Stratification2': 'Race/Ethnicity'})\n",
    "\n",
    "strokeDf = strokeDf.rename(columns = {'Data_Value': 'Deaths per 100,000', 'Data_Value_Footnote': 'Sufficiency?'\n",
    "                                 ,'Stratification1': 'Gender','Stratification2': 'Race/Ethnicity'})\n",
    "\n",
    "strokeDf.head()"
   ]
  },
  {
   "cell_type": "markdown",
   "id": "1f5d4851",
   "metadata": {},
   "source": [
<<<<<<< Updated upstream
    "## **Exploratory Data Analysis** <br>\n",
    "\n",
    "#####  Explain what your data looks like (words are fine, butvisualizations are often better). Include any interesting issues or preliminaryconclusions you have about your data."
=======
    "## **Exploratory Data Analysis**\n",
    "\n",
    "Exploratory Data Analysis primarily used for: _detection of mistakes, checking of assumptions such as deaths per race, preliminary selection of appropriate models (in this case bar plot is used), determining relationships among the Average Number of Deaths vs. Races, and assessing the direction and rough size of relationships between explanatory and outcome variables._"
>>>>>>> Stashed changes
   ]
  },
  {
   "cell_type": "code",
<<<<<<< Updated upstream
   "execution_count": 150,
=======
   "execution_count": 15,
>>>>>>> Stashed changes
   "id": "dcac518f",
   "metadata": {},
   "outputs": [
    {
     "data": {
      "text/html": [
       "<div>\n",
       "<style scoped>\n",
       "    .dataframe tbody tr th:only-of-type {\n",
       "        vertical-align: middle;\n",
       "    }\n",
       "\n",
       "    .dataframe tbody tr th {\n",
       "        vertical-align: top;\n",
       "    }\n",
       "\n",
       "    .dataframe thead th {\n",
       "        text-align: right;\n",
       "    }\n",
       "</style>\n",
       "<table border=\"1\" class=\"dataframe\">\n",
       "  <thead>\n",
       "    <tr style=\"text-align: right;\">\n",
       "      <th></th>\n",
       "      <th>LocationAbbr</th>\n",
       "      <th>Deaths per 100,000</th>\n",
       "      <th>Gender</th>\n",
       "      <th>Race/Ethnicity</th>\n",
       "    </tr>\n",
       "  </thead>\n",
       "  <tbody>\n",
       "    <tr>\n",
       "      <th>0</th>\n",
       "      <td>AK</td>\n",
       "      <td>55.7</td>\n",
       "      <td>Overall</td>\n",
       "      <td>White</td>\n",
       "    </tr>\n",
       "    <tr>\n",
       "      <th>1</th>\n",
       "      <td>AK</td>\n",
       "      <td>70.0</td>\n",
       "      <td>Overall</td>\n",
       "      <td>White</td>\n",
       "    </tr>\n",
       "    <tr>\n",
       "      <th>2</th>\n",
       "      <td>AK</td>\n",
       "      <td>73.3</td>\n",
       "      <td>Overall</td>\n",
       "      <td>White</td>\n",
       "    </tr>\n",
       "    <tr>\n",
       "      <th>3</th>\n",
       "      <td>AK</td>\n",
       "      <td>101.4</td>\n",
       "      <td>Overall</td>\n",
       "      <td>White</td>\n",
       "    </tr>\n",
       "    <tr>\n",
       "      <th>4</th>\n",
       "      <td>AK</td>\n",
       "      <td>59.6</td>\n",
       "      <td>Overall</td>\n",
       "      <td>White</td>\n",
       "    </tr>\n",
       "  </tbody>\n",
       "</table>\n",
       "</div>"
      ],
      "text/plain": [
       "  LocationAbbr  Deaths per 100,000   Gender Race/Ethnicity\n",
       "0           AK                55.7  Overall          White\n",
       "1           AK                70.0  Overall          White\n",
       "2           AK                73.3  Overall          White\n",
       "3           AK               101.4  Overall          White\n",
       "4           AK                59.6  Overall          White"
      ]
     },
<<<<<<< Updated upstream
     "execution_count": 150,
=======
     "execution_count": 15,
>>>>>>> Stashed changes
     "metadata": {},
     "output_type": "execute_result"
    }
   ],
   "source": [
    "#Cleaning data to remove columns that does not have enough data \n",
    "heartDf = heartDf[heartDf['Sufficiency?'] != 'Insufficient Data']\n",
    "heartDf = heartDf[heartDf['Race/Ethnicity'] != 'Overall']\n",
    "heartDf = heartDf[heartDf['Gender'] != 'Female']\n",
    "heartDf = heartDf[heartDf['Gender'] != 'Male']\n",
    "strokeDf = strokeDf[strokeDf['Sufficiency?'] != 'Insufficient Data']\n",
    "strokeDf = strokeDf[strokeDf['Race/Ethnicity'] != 'Overall']\n",
    "\n",
    "\n",
    "#filtering for data that is just where gender is the overall column\n",
    "strokeDf = strokeDf[strokeDf['Gender'] != 'Female']\n",
    "strokeDf = strokeDf[strokeDf['Gender'] != 'Male']\n",
    "\n",
    "heartNewCols = []\n",
    "heartNewData = {}\n",
    "\n",
    "#removing columns for Sufficiency as we only care about the race, death, and gender\n",
    "for col in heartDf.columns:\n",
    "    if col != 'Sufficiency' and col != 'Sufficiency?':\n",
    "        heartNewData[col] = heartDf[col]\n",
    "heartUpdated = pd.DataFrame(heartNewData)\n",
    "heartUpdated.head()\n",
    "\n",
    "strokeNewCols = []\n",
    "strokeNewData = {}\n",
    "for col in strokeDf.columns:\n",
    "    if col != 'Sufficiency' and col != 'Sufficiency?':\n",
    "        strokeNewData[col] = strokeDf[col]\n",
    "strokeUpdated = pd.DataFrame(strokeNewData)\n",
    "strokeUpdated.reset_index(inplace = True, drop = True)\n",
    "strokeUpdated.head()"
   ]
  },
  {
   "cell_type": "code",
   "execution_count": 151,
   "id": "994a4a50",
   "metadata": {},
   "outputs": [
    {
     "name": "stdout",
     "output_type": "stream",
     "text": [
      "       Race  Average Number of Deaths\n",
      "0  Hispanic                      51.2\n"
     ]
    }
   ],
   "source": [
    "#Determining average deaths per each race group\n",
    "\n",
    "#Key is Race, Value is amount and number of rows to determine\n",
    "strokeUpdated2 = avgDf(strokeUpdated)\n",
    "heartUpdated2 = avgDf(heartUpdated)\n",
    "\n",
    "print(strokeUpdated2)"
   ]
  },
  {
   "cell_type": "code",
   "execution_count": 124,
   "id": "56c938d9",
   "metadata": {},
   "outputs": [],
   "source": [
    "#plot(strokeUpdated)"
   ]
  },
  {
   "cell_type": "markdown",
   "id": "4d4e6b30",
   "metadata": {},
   "source": [
    "## Visualization <br>\n",
    "\n",
    "**Tests an interesting hypothesis, along with an\n",
    "explanation about why you thought this was an interesting hypothesis to\n",
    "investigate.**"
   ]
  },
  {
   "cell_type": "code",
<<<<<<< Updated upstream
   "execution_count": 90,
   "id": "1dbeda12",
=======
   "execution_count": 16,
   "id": "6d635c42",
>>>>>>> Stashed changes
   "metadata": {},
   "outputs": [
    {
     "data": {
<<<<<<< Updated upstream
      "image/png": "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\n",
=======
      "image/png": "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\n",
>>>>>>> Stashed changes
      "text/plain": [
       "<Figure size 1080x360 with 1 Axes>"
      ]
     },
     "metadata": {},
     "output_type": "display_data"
    }
   ],
   "source": [
    "plot(heartUpdated)"
   ]
  },
  {
   "cell_type": "markdown",
   "id": "a497337e",
   "metadata": {},
   "source": [
    "## **Reflection** <br>\n",
    "####  o What is hardest part of the project that you’ve encountered so far?<br>\n",
    "#### o What are your initial insights? <br>\n",
    "#### o Are there any concrete results you can show at this point? If not, why not? <br>\n",
    "#### o Going forward, what are the current biggest problems you’re facing? <br>\n",
    "#### o Do you think you are on track with your project? If not, what parts do you need to dedicate more time to? <br>\n",
    "#### o Given your initial exploration of the data, is it worth proceeding with your project, why? If not, how are you going to change your project and why do you think it’s better than your current results?"
   ]
  },
  {
   "cell_type": "markdown",
   "id": "f277dd1b",
   "metadata": {},
   "source": [
    "## Next Steps \n",
    "\n",
    "##### What you plan to accomplish in the next month and how you plan to evaluate whether your project achieved the goals you set for it."
   ]
  },
  {
   "cell_type": "code",
<<<<<<< Updated upstream
   "execution_count": 152,
   "id": "6813c139",
=======
   "execution_count": 17,
   "id": "22606972",
>>>>>>> Stashed changes
   "metadata": {},
   "outputs": [
    {
     "data": {
<<<<<<< Updated upstream
      "text/html": [
       "<div>\n",
       "<style scoped>\n",
       "    .dataframe tbody tr th:only-of-type {\n",
       "        vertical-align: middle;\n",
       "    }\n",
       "\n",
       "    .dataframe tbody tr th {\n",
       "        vertical-align: top;\n",
       "    }\n",
       "\n",
       "    .dataframe thead th {\n",
       "        text-align: right;\n",
       "    }\n",
       "</style>\n",
       "<table border=\"1\" class=\"dataframe\">\n",
       "  <thead>\n",
       "    <tr style=\"text-align: right;\">\n",
       "      <th></th>\n",
       "      <th>Race</th>\n",
       "      <th>Average Number of Deaths</th>\n",
       "    </tr>\n",
       "  </thead>\n",
       "  <tbody>\n",
       "    <tr>\n",
       "      <th>0</th>\n",
       "      <td>White</td>\n",
       "      <td>74.978916</td>\n",
       "    </tr>\n",
       "    <tr>\n",
       "      <th>1</th>\n",
       "      <td>Black</td>\n",
       "      <td>109.273453</td>\n",
       "    </tr>\n",
       "    <tr>\n",
       "      <th>2</th>\n",
       "      <td>Hispanic</td>\n",
       "      <td>57.702778</td>\n",
       "    </tr>\n",
       "    <tr>\n",
       "      <th>3</th>\n",
       "      <td>Asian and Pacific Islander</td>\n",
       "      <td>64.182379</td>\n",
       "    </tr>\n",
       "    <tr>\n",
       "      <th>4</th>\n",
       "      <td>American Indian and Alaskan Native</td>\n",
       "      <td>75.795798</td>\n",
       "    </tr>\n",
       "  </tbody>\n",
       "</table>\n",
       "</div>"
      ],
=======
      "image/png": "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\n",
>>>>>>> Stashed changes
      "text/plain": [
       "                                 Race  Average Number of Deaths\n",
       "0                               White                 74.978916\n",
       "1                               Black                109.273453\n",
       "2                            Hispanic                 57.702778\n",
       "3          Asian and Pacific Islander                 64.182379\n",
       "4  American Indian and Alaskan Native                 75.795798"
      ]
     },
<<<<<<< Updated upstream
     "execution_count": 152,
     "metadata": {},
     "output_type": "execute_result"
=======
     "metadata": {},
     "output_type": "display_data"
>>>>>>> Stashed changes
    }
   ],
   "source": [
    "RaceCounter = {}\n",
    "for row in strokeUpdated.iterrows():\n",
    "    (index, loc) = row\n",
    "    \n",
    "    if loc['Race/Ethnicity'] in RaceCounter:\n",
    "        (currSum, currDeath) = RaceCounter[loc['Race/Ethnicity']]\n",
    "        currSum = currSum + 1\n",
    "        currDeath = currDeath + loc['Deaths per 100,000']\n",
    "        \n",
    "        RaceCounter[loc['Race/Ethnicity']] = (currSum, currDeath)\n",
    "    else: \n",
    "        RaceCounter[loc['Race/Ethnicity']] = (1, loc['Deaths per 100,000'])\n",
    "\n",
    "# print(RaceCounter)\n",
    "\n",
    "avgRace = {}\n",
    "for key in RaceCounter:\n",
    "    (divisor, numerator) = RaceCounter[key]\n",
    "    # print(divisor)\n",
    "    # print(numerator)\n",
    "    tempAvg = numerator/divisor\n",
    "    avgRace[key] = tempAvg\n",
    "\n",
    "#print(avgRace)\n",
    "\n",
    "output = []\n",
    "for key in avgRace: \n",
    "    tempList = []\n",
    "    tempList.append(key)\n",
    "    tempList.append(avgRace[key])\n",
    "    output.append(tempList)\n",
    "#print(output)\n",
    "\n",
    "avgDf = pd.DataFrame(output, columns =['Race', 'Average Number of Deaths'])\n",
    "avgDf.head()"
   ]
  },
  {
   "cell_type": "code",
   "execution_count": 158,
   "id": "4413b1a6",
   "metadata": {},
   "outputs": [
    {
     "data": {
      "text/plain": [
       "Text(0.5, 1.0, 'Average Numbers of Death per Race (Stroke Data)')"
      ]
     },
     "execution_count": 158,
     "metadata": {},
     "output_type": "execute_result"
    },
    {
     "data": {
      "image/png": "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\n",
      "text/plain": [
       "<Figure size 1080x360 with 1 Axes>"
      ]
     },
     "metadata": {
      "needs_background": "light"
     },
     "output_type": "display_data"
    }
   ],
   "source": [
    "fig = plt.gcf()\n",
    "fig.set_size_inches(15, 5)\n",
    "plot = sns.barplot(x = 'Race', y = 'Average Number of Deaths', data = avgDf)\n",
    "plt.title(\"Average Numbers of Death per Race (Stroke Data)\")"
   ]
  }
 ],
 "metadata": {
  "kernelspec": {
   "display_name": "Python 3 (ipykernel)",
   "language": "python",
   "name": "python3"
  },
  "language_info": {
   "codemirror_mode": {
    "name": "ipython",
    "version": 3
   },
   "file_extension": ".py",
   "mimetype": "text/x-python",
   "name": "python",
   "nbconvert_exporter": "python",
   "pygments_lexer": "ipython3",
   "version": "3.9.7"
  }
 },
 "nbformat": 4,
 "nbformat_minor": 5
}
