{
 "cells": [
  {
   "cell_type": "code",
   "execution_count": null,
   "id": "27dba2e6",
   "metadata": {},
   "outputs": [],
   "source": [
    "# ML analysis \n",
    "\n",
    "# Additional dataset (healthcarecost.csv) which covers healthcare costs for each county in United States. \n",
    "# Trying to implement ML model that can establish co-relation b/w mortality rates and expenditures that govt. \n",
    "# is making for each county in United States.\n",
    "\n",
    "# In addition to that, one more conclusion question can be added that \"Is the  health care costs sufficient\n",
    "# for specific county with respective mortality rates caused by heart attacks?\"\n",
    "\n",
    "# Specifically for the ML model"
   ]
  }
 ],
 "metadata": {
  "kernelspec": {
   "display_name": "Python 3 (ipykernel)",
   "language": "python",
   "name": "python3"
  },
  "language_info": {
   "codemirror_mode": {
    "name": "ipython",
    "version": 3
   },
   "file_extension": ".py",
   "mimetype": "text/x-python",
   "name": "python",
   "nbconvert_exporter": "python",
   "pygments_lexer": "ipython3",
   "version": "3.9.7"
  }
 },
 "nbformat": 4,
 "nbformat_minor": 5
}
