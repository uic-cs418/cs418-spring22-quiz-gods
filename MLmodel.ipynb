{
 "cells": [
  {
   "cell_type": "code",
   "execution_count": null,
   "id": "b966b7aa",
   "metadata": {},
   "outputs": [],
   "source": [
    "# ML analysis \n",
    "\n",
    "### STEPS TO BE ACCOMPLISHED\n",
    "#### 1. IMPORTS\n",
    "#### 2. Data :: Download, Load, Explore, Preprocessing\n",
    "#### 3. Exploratory Data Visualization\n",
    "#### 4. Model Building And Training :: Build Logistic Regression Model, Training the Model\n",
    "#### 5. Evaluation :: Evaluating Training Set, Evaluating Testing Set\n",
    "#### 6. Generating Classification Report\n",
    "#### 7. Visualizing using Confusion Matrix\n",
    "#### 8. Conclusion"
   ]
  },
  {
   "cell_type": "code",
   "execution_count": 15,
   "id": "95ac58b4",
   "metadata": {},
   "outputs": [],
   "source": [
    "# 1. IMPORTS Done\n",
    "import numpy as np\n",
    "import pandas as pd\n",
    "import seaborn as sns\n",
    "import matplotlib.pyplot as plt\n",
    "from scipy.stats import zscore\n",
    "from sklearn.preprocessing import StandardScaler\n",
    "from sklearn.model_selection import train_test_split\n",
    "from sklearn.ensemble import RandomForestClassifier\n",
    "from sklearn.tree import DecisionTreeClassifier\n",
    "from sklearn.linear_model import LogisticRegression\n",
    "from sklearn.naive_bayes import BernoulliNB, GaussianNB\n",
    "from sklearn.svm import SVC\n",
    "from sklearn.neighbors import KNeighborsClassifier\n",
    "from sklearn.metrics import accuracy_score, confusion_matrix, roc_curve, r2_score, auc"
   ]
  },
  {
   "cell_type": "code",
   "execution_count": null,
   "id": "594e254f",
   "metadata": {},
   "outputs": [],
   "source": [
    "# 2. Data :: Loading and reading\n",
    "\n",
    "heart = pd.read_csv(\"heartML.csv\")\n",
    "heart.shape\n"
   ]
  }
 ],
 "metadata": {
  "kernelspec": {
   "display_name": "Python 3 (ipykernel)",
   "language": "python",
   "name": "python3"
  },
  "language_info": {
   "codemirror_mode": {
    "name": "ipython",
    "version": 3
   },
   "file_extension": ".py",
   "mimetype": "text/x-python",
   "name": "python",
   "nbconvert_exporter": "python",
   "pygments_lexer": "ipython3",
   "version": "3.9.7"
  }
 },
 "nbformat": 4,
 "nbformat_minor": 5
}
